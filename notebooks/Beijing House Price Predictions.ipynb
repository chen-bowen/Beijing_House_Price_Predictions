{
 "cells": [
  {
   "cell_type": "markdown",
   "metadata": {},
   "source": [
    "# Beijing House Price Predictions"
   ]
  },
  {
   "cell_type": "markdown",
   "metadata": {},
   "source": [
    "credit to Dmitrii Kislenko on Kaggle for some data exploration ideas"
   ]
  },
  {
   "cell_type": "markdown",
   "metadata": {},
   "source": [
    "import packages"
   ]
  },
  {
   "cell_type": "code",
   "execution_count": 41,
   "metadata": {},
   "outputs": [
    {
     "name": "stdout",
     "output_type": "stream",
     "text": [
      "The lab_black extension is already loaded. To reload it, use:\n",
      "  %reload_ext lab_black\n"
     ]
    }
   ],
   "source": [
    "%load_ext lab_black\n",
    "import pandas as pd\n",
    "import matplotlib.pyplot as plt\n",
    "import datetime as dt\n",
    "import lightgbm as lgbm\n",
    "from sklearn.metrics import mean_squared_log_error"
   ]
  },
  {
   "cell_type": "markdown",
   "metadata": {},
   "source": [
    "import data"
   ]
  },
  {
   "cell_type": "code",
   "execution_count": 55,
   "metadata": {},
   "outputs": [],
   "source": [
    "houses = pd.read_csv(\n",
    "    \"../price_prediction_model/data/beijing_house_prices_2012_2017.csv\",\n",
    "    encoding=\"gbk\",\n",
    "    low_memory=False,\n",
    ")"
   ]
  },
  {
   "cell_type": "code",
   "execution_count": 43,
   "metadata": {},
   "outputs": [
    {
     "name": "stdout",
     "output_type": "stream",
     "text": [
      "<class 'pandas.core.frame.DataFrame'>\n",
      "RangeIndex: 318851 entries, 0 to 318850\n",
      "Data columns (total 26 columns):\n",
      " #   Column               Non-Null Count   Dtype  \n",
      "---  ------               --------------   -----  \n",
      " 0   url                  318851 non-null  object \n",
      " 1   id                   318851 non-null  object \n",
      " 2   Lng                  318851 non-null  float64\n",
      " 3   Lat                  318851 non-null  float64\n",
      " 4   Cid                  318851 non-null  int64  \n",
      " 5   tradeTime            318851 non-null  object \n",
      " 6   DOM                  160874 non-null  float64\n",
      " 7   followers            318851 non-null  int64  \n",
      " 8   totalPrice           318851 non-null  float64\n",
      " 9   price                318851 non-null  int64  \n",
      " 10  square               318851 non-null  float64\n",
      " 11  livingRoom           318851 non-null  object \n",
      " 12  drawingRoom          318851 non-null  object \n",
      " 13  kitchen              318851 non-null  int64  \n",
      " 14  bathRoom             318851 non-null  object \n",
      " 15  floor                318851 non-null  object \n",
      " 16  buildingType         316830 non-null  float64\n",
      " 17  constructionTime     318851 non-null  object \n",
      " 18  renovationCondition  318851 non-null  int64  \n",
      " 19  buildingStructure    318851 non-null  int64  \n",
      " 20  ladderRatio          318851 non-null  float64\n",
      " 21  elevator             318819 non-null  float64\n",
      " 22  fiveYearsProperty    318819 non-null  float64\n",
      " 23  subway               318819 non-null  float64\n",
      " 24  district             318851 non-null  int64  \n",
      " 25  communityAverage     318388 non-null  float64\n",
      "dtypes: float64(11), int64(7), object(8)\n",
      "memory usage: 63.2+ MB\n"
     ]
    }
   ],
   "source": [
    "houses.info()"
   ]
  },
  {
   "cell_type": "markdown",
   "metadata": {},
   "source": [
    "## Data Preprocessing"
   ]
  },
  {
   "cell_type": "markdown",
   "metadata": {},
   "source": [
    "missing data ratio"
   ]
  },
  {
   "cell_type": "code",
   "execution_count": 44,
   "metadata": {},
   "outputs": [
    {
     "data": {
      "text/plain": [
       "url                    0.000000\n",
       "id                     0.000000\n",
       "Lng                    0.000000\n",
       "Lat                    0.000000\n",
       "Cid                    0.000000\n",
       "tradeTime              0.000000\n",
       "DOM                    0.495457\n",
       "followers              0.000000\n",
       "totalPrice             0.000000\n",
       "price                  0.000000\n",
       "square                 0.000000\n",
       "livingRoom             0.000000\n",
       "drawingRoom            0.000000\n",
       "kitchen                0.000000\n",
       "bathRoom               0.000000\n",
       "floor                  0.000000\n",
       "buildingType           0.006338\n",
       "constructionTime       0.000000\n",
       "renovationCondition    0.000000\n",
       "buildingStructure      0.000000\n",
       "ladderRatio            0.000000\n",
       "elevator               0.000100\n",
       "fiveYearsProperty      0.000100\n",
       "subway                 0.000100\n",
       "district               0.000000\n",
       "communityAverage       0.001452\n",
       "dtype: float64"
      ]
     },
     "execution_count": 44,
     "metadata": {},
     "output_type": "execute_result"
    }
   ],
   "source": [
    "houses.isnull().sum() / len(houses)"
   ]
  },
  {
   "cell_type": "markdown",
   "metadata": {},
   "source": [
    "According to the data dictionary, we can safely assume the missing days on market are all for new houses, we will fill them with the median days active on market"
   ]
  },
  {
   "cell_type": "code",
   "execution_count": 45,
   "metadata": {},
   "outputs": [],
   "source": [
    "houses[\"DOM\"] = houses[\"DOM\"].fillna(houses[\"DOM\"].median())"
   ]
  },
  {
   "cell_type": "markdown",
   "metadata": {},
   "source": [
    "0.6% of building type is missing, we could potentially assume it's the majority type of building, as it probably will not affect the results by a large margin"
   ]
  },
  {
   "cell_type": "code",
   "execution_count": 46,
   "metadata": {},
   "outputs": [
    {
     "data": {
      "text/plain": [
       "4.000    172405\n",
       "1.000     84541\n",
       "3.000     59715\n",
       "2.000       137\n",
       "0.500        15\n",
       "0.333         5\n",
       "0.048         4\n",
       "0.125         3\n",
       "0.250         2\n",
       "0.429         1\n",
       "0.375         1\n",
       "0.667         1\n",
       "Name: buildingType, dtype: int64"
      ]
     },
     "execution_count": 46,
     "metadata": {},
     "output_type": "execute_result"
    }
   ],
   "source": [
    "houses[\"buildingType\"].value_counts()"
   ]
  },
  {
   "cell_type": "markdown",
   "metadata": {},
   "source": [
    "buildingType should be a categorical variable, any value less than 1 should just be 1"
   ]
  },
  {
   "cell_type": "code",
   "execution_count": 47,
   "metadata": {},
   "outputs": [
    {
     "data": {
      "text/plain": [
       "4.0    172405\n",
       "1.0     84573\n",
       "3.0     59715\n",
       "0.0      2021\n",
       "2.0       137\n",
       "Name: buildingType, dtype: int64"
      ]
     },
     "execution_count": 47,
     "metadata": {},
     "output_type": "execute_result"
    }
   ],
   "source": [
    "houses[\"buildingType\"] = houses[\"buildingType\"].apply(lambda x: 1 if x < 1 else x)\n",
    "houses[\"buildingType\"] = houses[\"buildingType\"].fillna(0)\n",
    "houses[\"buildingType\"].value_counts()"
   ]
  },
  {
   "cell_type": "markdown",
   "metadata": {},
   "source": [
    "community average missing values should be filled in with the mean of that district"
   ]
  },
  {
   "cell_type": "code",
   "execution_count": 48,
   "metadata": {},
   "outputs": [],
   "source": [
    "houses[\"communityAverage\"] = houses.groupby(\"Cid\").transform(\n",
    "    lambda x: x.fillna(x.mean())\n",
    ")"
   ]
  },
  {
   "cell_type": "code",
   "execution_count": 51,
   "metadata": {},
   "outputs": [
    {
     "data": {
      "text/html": [
       "<div>\n",
       "<style scoped>\n",
       "    .dataframe tbody tr th:only-of-type {\n",
       "        vertical-align: middle;\n",
       "    }\n",
       "\n",
       "    .dataframe tbody tr th {\n",
       "        vertical-align: top;\n",
       "    }\n",
       "\n",
       "    .dataframe thead th {\n",
       "        text-align: right;\n",
       "    }\n",
       "</style>\n",
       "<table border=\"1\" class=\"dataframe\">\n",
       "  <thead>\n",
       "    <tr style=\"text-align: right;\">\n",
       "      <th></th>\n",
       "      <th>url</th>\n",
       "      <th>id</th>\n",
       "      <th>Lng</th>\n",
       "      <th>Lat</th>\n",
       "      <th>Cid</th>\n",
       "      <th>tradeTime</th>\n",
       "      <th>DOM</th>\n",
       "      <th>followers</th>\n",
       "      <th>totalPrice</th>\n",
       "      <th>price</th>\n",
       "      <th>square</th>\n",
       "      <th>livingRoom</th>\n",
       "      <th>drawingRoom</th>\n",
       "      <th>kitchen</th>\n",
       "      <th>bathRoom</th>\n",
       "      <th>floor</th>\n",
       "      <th>buildingType</th>\n",
       "      <th>constructionTime</th>\n",
       "      <th>renovationCondition</th>\n",
       "      <th>buildingStructure</th>\n",
       "      <th>ladderRatio</th>\n",
       "      <th>elevator</th>\n",
       "      <th>fiveYearsProperty</th>\n",
       "      <th>subway</th>\n",
       "      <th>district</th>\n",
       "      <th>communityAverage</th>\n",
       "    </tr>\n",
       "  </thead>\n",
       "  <tbody>\n",
       "    <tr>\n",
       "      <th>93514</th>\n",
       "      <td>https://bj.lianjia.com/chengjiao/BJCP00480005....</td>\n",
       "      <td>BJCP00480005</td>\n",
       "      <td>116.301903</td>\n",
       "      <td>40.117228</td>\n",
       "      <td>1111027382234</td>\n",
       "      <td>2011-09-29</td>\n",
       "      <td>6.0</td>\n",
       "      <td>0</td>\n",
       "      <td>97.5</td>\n",
       "      <td>12492</td>\n",
       "      <td>78.05</td>\n",
       "      <td>2</td>\n",
       "      <td>1</td>\n",
       "      <td>1</td>\n",
       "      <td>1</td>\n",
       "      <td>高 6</td>\n",
       "      <td>4.0</td>\n",
       "      <td>1996</td>\n",
       "      <td>1</td>\n",
       "      <td>4</td>\n",
       "      <td>0.5</td>\n",
       "      <td>0.0</td>\n",
       "      <td>0.0</td>\n",
       "      <td>0.0</td>\n",
       "      <td>6</td>\n",
       "      <td>116.301903</td>\n",
       "    </tr>\n",
       "  </tbody>\n",
       "</table>\n",
       "</div>"
      ],
      "text/plain": [
       "                                                     url            id  \\\n",
       "93514  https://bj.lianjia.com/chengjiao/BJCP00480005....  BJCP00480005   \n",
       "\n",
       "              Lng        Lat            Cid   tradeTime  DOM  followers  \\\n",
       "93514  116.301903  40.117228  1111027382234  2011-09-29  6.0          0   \n",
       "\n",
       "       totalPrice  price  square livingRoom drawingRoom  kitchen bathRoom  \\\n",
       "93514        97.5  12492   78.05          2           1        1        1   \n",
       "\n",
       "      floor  buildingType constructionTime  renovationCondition  \\\n",
       "93514   高 6           4.0             1996                    1   \n",
       "\n",
       "       buildingStructure  ladderRatio  elevator  fiveYearsProperty  subway  \\\n",
       "93514                  4          0.5       0.0                0.0     0.0   \n",
       "\n",
       "       district  communityAverage  \n",
       "93514         6        116.301903  "
      ]
     },
     "execution_count": 51,
     "metadata": {},
     "output_type": "execute_result"
    }
   ],
   "source": [
    "houses[houses[\"id\"] == \"BJCP00480005\"]"
   ]
  },
  {
   "cell_type": "markdown",
   "metadata": {},
   "source": [
    "missing fiveYearsProperty will simply be dropped"
   ]
  },
  {
   "cell_type": "code",
   "execution_count": 17,
   "metadata": {},
   "outputs": [],
   "source": [
    "houses.dropna(subset=[\"fiveYearsProperty\"], inplace=True)"
   ]
  },
  {
   "cell_type": "code",
   "execution_count": 19,
   "metadata": {},
   "outputs": [
    {
     "data": {
      "text/plain": [
       "2    160589\n",
       "1     82386\n",
       "3     67611\n",
       "4      6821\n",
       "5      1107\n",
       "6       228\n",
       "7        37\n",
       "0        28\n",
       "8         7\n",
       "9         5\n",
       "Name: livingRoom, dtype: int64"
      ]
     },
     "execution_count": 19,
     "metadata": {},
     "output_type": "execute_result"
    }
   ],
   "source": [
    "houses[\"livingRoom\"].value_counts()"
   ]
  },
  {
   "cell_type": "markdown",
   "metadata": {},
   "source": [
    "fill the special values 0 and non-unicode chars with year 2018"
   ]
  },
  {
   "cell_type": "code",
   "execution_count": null,
   "metadata": {},
   "outputs": [],
   "source": [
    "houses[\"constructionTime\"] = houses[\"constructionTime\"].astype(\"str\")\n",
    "houses.loc[\n",
    "    (houses.constructionTime == \"0\") | (houses.constructionTime == \"未知\"),\n",
    "    \"constructionTime\",\n",
    "] = \"2018\""
   ]
  },
  {
   "cell_type": "markdown",
   "metadata": {},
   "source": [
    "fill the special values 1 with year 2017"
   ]
  },
  {
   "cell_type": "code",
   "execution_count": null,
   "metadata": {},
   "outputs": [],
   "source": [
    "houses.loc[houses.constructionTime == \"1\", \"constructionTime\"] = \"2017\""
   ]
  },
  {
   "cell_type": "markdown",
   "metadata": {},
   "source": [
    "data type conversions"
   ]
  },
  {
   "cell_type": "code",
   "execution_count": null,
   "metadata": {},
   "outputs": [],
   "source": [
    "houses[[\"livingRoom\", \"drawingRoom\", \"bathRoom\"]] = houses[\n",
    "    [\"livingRoom\", \"drawingRoom\", \"bathRoom\"]\n",
    "].astype(int)"
   ]
  },
  {
   "cell_type": "code",
   "execution_count": null,
   "metadata": {},
   "outputs": [],
   "source": [
    "houses[\"bathRoom\"].value_counts()"
   ]
  },
  {
   "cell_type": "code",
   "execution_count": null,
   "metadata": {},
   "outputs": [],
   "source": [
    "houses[[\"livingRoom\", \"drawingRoom\", \"bathRoom\"]].dtypes.to_dict()"
   ]
  },
  {
   "cell_type": "markdown",
   "metadata": {},
   "source": [
    "Building total floors"
   ]
  },
  {
   "cell_type": "code",
   "execution_count": null,
   "metadata": {},
   "outputs": [],
   "source": [
    "houses[\"buildingTotalFloors\"] = houses[\"floor\"].str.split(\" \").str[1].astype(int)"
   ]
  },
  {
   "cell_type": "code",
   "execution_count": null,
   "metadata": {},
   "outputs": [],
   "source": [
    "houses[\"buildingTotalFloors\"].head().to_dict()"
   ]
  },
  {
   "cell_type": "markdown",
   "metadata": {},
   "source": [
    "House floor region in building"
   ]
  },
  {
   "cell_type": "code",
   "execution_count": null,
   "metadata": {},
   "outputs": [],
   "source": [
    "height_char_mapping = {\"顶\": \"5\", \"高\": \"4\", \"中\": \"3\", \"低\": \"2\", \"底\": \"1\", \"未知\": \"0\"}\n",
    "houses[\"floorProximity\"] = (\n",
    "    houses[\"floor\"].str.split(\" \").str[0].map(height_char_mapping)\n",
    ")"
   ]
  },
  {
   "cell_type": "code",
   "execution_count": null,
   "metadata": {},
   "outputs": [],
   "source": [
    "houses[\"floorProximity\"].value_counts(sort=False).to_dict()"
   ]
  },
  {
   "cell_type": "markdown",
   "metadata": {},
   "source": [
    "add house age in years feature"
   ]
  },
  {
   "cell_type": "code",
   "execution_count": null,
   "metadata": {},
   "outputs": [],
   "source": [
    "houses[\"year\"] = pd.to_datetime(houses[\"constructionTime\"])\n",
    "houses[\"houseAgeYears\"] = round(\n",
    "    (dt.datetime.today() - houses[\"year\"]).dt.days / 365\n",
    ").astype(int)"
   ]
  },
  {
   "cell_type": "code",
   "execution_count": null,
   "metadata": {},
   "outputs": [],
   "source": [
    "houses = houses.rename({\"totalPrice\": \"totalPrice_per_10000\"}, axis=\"columns\")"
   ]
  },
  {
   "cell_type": "markdown",
   "metadata": {},
   "source": [
    "average price per year"
   ]
  },
  {
   "cell_type": "code",
   "execution_count": null,
   "metadata": {},
   "outputs": [],
   "source": [
    "houses[\"tradeYear\"] = pd.to_datetime(houses[\"tradeTime\"]).dt.year\n",
    "houses[\"tradeMonth\"] = pd.to_datetime(houses[\"tradeTime\"]).dt.month\n",
    "houses = houses[houses[\"tradeYear\"] >= 2011]"
   ]
  },
  {
   "cell_type": "code",
   "execution_count": null,
   "metadata": {},
   "outputs": [],
   "source": [
    "pd.DataFrame(\n",
    "    houses[houses[\"tradeYear\"] >= 2011]\n",
    "    .groupby([\"tradeYear\", \"tradeMonth\"])\n",
    "    .mean()[\"totalPrice_per_10000\"]\n",
    ").plot(figsize=(10, 7))\n",
    "plt.ylabel(\"Price in ¥10000\")\n",
    "plt.title(\"Average Price by Month\")"
   ]
  },
  {
   "cell_type": "markdown",
   "metadata": {},
   "source": [
    "Create a feature of average price of house sales with expotential decay of last 3 months "
   ]
  },
  {
   "cell_type": "code",
   "execution_count": null,
   "metadata": {},
   "outputs": [],
   "source": [
    "def get_ewma_average_price_past_3_mon(houses):\n",
    "    average_prices = pd.DataFrame(\n",
    "        houses[houses[\"tradeYear\"] >= 2011]\n",
    "        .groupby([\"tradeYear\", \"tradeMonth\"])\n",
    "        .mean()[\"totalPrice_per_10000\"]\n",
    "    )\n",
    "    return average_prices.ewm(span=3).mean().to_dict()[\"totalPrice_per_10000\"]"
   ]
  },
  {
   "cell_type": "code",
   "execution_count": null,
   "metadata": {},
   "outputs": [],
   "source": [
    "mapping = get_ewma_average_price_past_3_mon(houses)\n",
    "houses[\"3_month_avg_price\"] = houses.apply(\n",
    "    lambda x: mapping[(x[\"tradeYear\"], x[\"tradeMonth\"])], axis=1\n",
    ")"
   ]
  },
  {
   "cell_type": "code",
   "execution_count": null,
   "metadata": {},
   "outputs": [],
   "source": [
    "import random\n",
    "\n",
    "district_avg_price = list(houses.groupby(\"district\").mean()[\"totalPrice_per_10000\"])\n",
    "\n",
    "number_of_colors = max(houses[\"district\"])\n",
    "random.seed(7)\n",
    "color = [\n",
    "    \"#\" + \"\".join([random.choice(\"0123456789ABCDEF\") for j in range(6)])\n",
    "    for i in range(number_of_colors)\n",
    "]\n",
    "plt.figure(figsize=(10, 7))\n",
    "\n",
    "for i in range(number_of_colors):\n",
    "    district_houses = houses[houses[\"district\"] == i + 1]\n",
    "    plt.scatter(\n",
    "        district_houses[\"Lng\"],\n",
    "        district_houses[\"Lat\"],\n",
    "        c=color[i],\n",
    "        s=10,\n",
    "        label=f\"Avg Price ¥{round(district_avg_price[i])} x 10K\",\n",
    "    )\n",
    "\n",
    "plt.title(\"Beijing Houses Sales Region\")\n",
    "plt.legend(bbox_to_anchor=(1, 1), loc=\"upper left\")\n",
    "plt.xlabel(\"Lat\")\n",
    "plt.ylabel(\"Lng\")\n",
    "plt.show()"
   ]
  },
  {
   "cell_type": "code",
   "execution_count": null,
   "metadata": {},
   "outputs": [],
   "source": [
    "houses.columns"
   ]
  },
  {
   "cell_type": "code",
   "execution_count": null,
   "metadata": {},
   "outputs": [],
   "source": [
    "categorical_features = [\n",
    "    \"renovationCondition\",\n",
    "    \"buildingStructure\",\n",
    "    \"district\",\n",
    "    \"floorProximity\",\n",
    "    \"subway\",\n",
    "]\n",
    "for feature in categorical_features:\n",
    "    houses[feature] = pd.Series(houses[feature], dtype=\"category\")"
   ]
  },
  {
   "cell_type": "code",
   "execution_count": null,
   "metadata": {},
   "outputs": [],
   "source": [
    "houses = houses.drop(\n",
    "    [\"url\", \"id\", \"Cid\", \"year\", \"tradeTime\", \"floor\", \"price\", \"constructionTime\"],\n",
    "    axis=1,\n",
    ")"
   ]
  },
  {
   "cell_type": "code",
   "execution_count": 28,
   "metadata": {},
   "outputs": [
    {
     "data": {
      "text/plain": [
       "0         56021.0\n",
       "1         71539.0\n",
       "2         48160.0\n",
       "3         51238.0\n",
       "4         62588.0\n",
       "           ...   \n",
       "318846    36545.0\n",
       "318847    54282.0\n",
       "318848    46927.0\n",
       "318849    54842.0\n",
       "318850    54282.0\n",
       "Name: communityAverage, Length: 318851, dtype: float64"
      ]
     },
     "execution_count": 28,
     "metadata": {},
     "output_type": "execute_result"
    }
   ],
   "source": [
    "houses[\"communityAverage\"]"
   ]
  },
  {
   "cell_type": "markdown",
   "metadata": {},
   "source": [
    "### Train test split"
   ]
  },
  {
   "cell_type": "markdown",
   "metadata": {},
   "source": [
    "split by the last 10% as the test set"
   ]
  },
  {
   "cell_type": "code",
   "execution_count": null,
   "metadata": {},
   "outputs": [],
   "source": [
    "train_split_index = int(len(houses) * 0.9)\n",
    "val_split_index = int(len(houses) * 0.91)\n",
    "trainiing_data = houses.sort_values(by=\"tradeYear\").iloc[:train_split_index]\n",
    "validation_data = houses.sort_values(by=\"tradeYear\").iloc[\n",
    "    train_split_index:val_split_index\n",
    "]\n",
    "test_data = houses.sort_values(by=\"tradeYear\").iloc[val_split_index:]"
   ]
  },
  {
   "cell_type": "code",
   "execution_count": null,
   "metadata": {},
   "outputs": [],
   "source": [
    "X_train, y_train = (\n",
    "    trainiing_data.drop([\"totalPrice_per_10000\"], axis=1),\n",
    "    trainiing_data[\"totalPrice_per_10000\"],\n",
    ")\n",
    "\n",
    "X_val, y_val = (\n",
    "    validation_data.drop([\"totalPrice_per_10000\"], axis=1),\n",
    "    validation_data[\"totalPrice_per_10000\"],\n",
    ")\n",
    "\n",
    "X_test, y_test = (\n",
    "    test_data.drop([\"totalPrice_per_10000\"], axis=1),\n",
    "    test_data[\"totalPrice_per_10000\"],\n",
    ")"
   ]
  },
  {
   "cell_type": "code",
   "execution_count": null,
   "metadata": {},
   "outputs": [],
   "source": [
    "list(set(list(X_train.index)) & set(list(X_val.index)))"
   ]
  },
  {
   "cell_type": "code",
   "execution_count": null,
   "metadata": {},
   "outputs": [],
   "source": [
    "X_train.columns"
   ]
  },
  {
   "cell_type": "markdown",
   "metadata": {},
   "source": [
    "### LightGBM regression"
   ]
  },
  {
   "cell_type": "code",
   "execution_count": null,
   "metadata": {},
   "outputs": [],
   "source": [
    "lightgbm = lgbm.LGBMRegressor()\n",
    "lightgbm.fit(X_train.values, y_train.values)"
   ]
  },
  {
   "cell_type": "code",
   "execution_count": null,
   "metadata": {},
   "outputs": [],
   "source": [
    "y_pred = lightgbm.predict(X_test.values)"
   ]
  },
  {
   "cell_type": "code",
   "execution_count": null,
   "metadata": {},
   "outputs": [],
   "source": [
    "print(\n",
    "    \"The rmse of prediction is:\",\n",
    "    round(mean_squared_log_error(y_pred, y_test.values) ** 0.5, 5),\n",
    ")"
   ]
  },
  {
   "cell_type": "code",
   "execution_count": null,
   "metadata": {},
   "outputs": [],
   "source": [
    "lightgbm.get_params()"
   ]
  },
  {
   "cell_type": "markdown",
   "metadata": {},
   "source": [
    "LightGBM regression performed relatively well out of the box, we can try a hyperparameters set"
   ]
  },
  {
   "cell_type": "code",
   "execution_count": null,
   "metadata": {},
   "outputs": [],
   "source": [
    "hyper_params = {\n",
    "    \"boosting_type\": \"gbdt\",\n",
    "    \"class_weight\": None,\n",
    "    \"colsample_bytree\": 1.0,\n",
    "    \"importance_type\": \"split\",\n",
    "    \"learning_rate\": 0.1,\n",
    "    \"max_depth\": -1,\n",
    "    \"min_child_samples\": 20,\n",
    "    \"min_child_weight\": 0.001,\n",
    "    \"min_split_gain\": 0.0,\n",
    "    \"n_estimators\": 100,\n",
    "    \"n_jobs\": -1,\n",
    "    \"num_leaves\": 31,\n",
    "    \"objective\": None,\n",
    "    \"random_state\": None,\n",
    "    \"reg_alpha\": 0.0,\n",
    "    \"reg_lambda\": 0.0,\n",
    "    \"silent\": True,\n",
    "    \"subsample\": 1.0,\n",
    "    \"subsample_for_bin\": 200000,\n",
    "    \"subsample_freq\": 0,\n",
    "}"
   ]
  },
  {
   "cell_type": "code",
   "execution_count": null,
   "metadata": {},
   "outputs": [],
   "source": [
    "lightgbm = lgbm.LGBMRegressor(**hyper_params)\n",
    "lightgbm.fit(\n",
    "    X_train.values,\n",
    "    y_train.values,\n",
    "    eval_metric=\"l2\",\n",
    "    eval_set=[(X_val.values, y_val.values)],\n",
    "    early_stopping_rounds=5000,\n",
    "    verbose=0,\n",
    ")"
   ]
  },
  {
   "cell_type": "code",
   "execution_count": null,
   "metadata": {},
   "outputs": [],
   "source": [
    "y_pred = lightgbm.predict(X_test, num_iteration=lightgbm.best_iteration_)"
   ]
  },
  {
   "cell_type": "code",
   "execution_count": null,
   "metadata": {},
   "outputs": [],
   "source": [
    "print(\n",
    "    \"The rmse of prediction is:\",\n",
    "    round(mean_squared_log_error(y_pred, y_test.values) ** 0.5, 5),\n",
    ")"
   ]
  },
  {
   "cell_type": "markdown",
   "metadata": {},
   "source": [
    "Looks like the out of bag lightgbm model works better than the fixed parameters ones"
   ]
  },
  {
   "cell_type": "code",
   "execution_count": null,
   "metadata": {},
   "outputs": [],
   "source": []
  }
 ],
 "metadata": {
  "kernelspec": {
   "display_name": "house_price_predictions",
   "language": "python",
   "name": "house_price_predictions"
  },
  "language_info": {
   "codemirror_mode": {
    "name": "ipython",
    "version": 3
   },
   "file_extension": ".py",
   "mimetype": "text/x-python",
   "name": "python",
   "nbconvert_exporter": "python",
   "pygments_lexer": "ipython3",
   "version": "3.8.5"
  }
 },
 "nbformat": 4,
 "nbformat_minor": 4
}
